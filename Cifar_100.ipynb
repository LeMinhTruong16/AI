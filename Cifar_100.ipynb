{
  "nbformat": 4,
  "nbformat_minor": 0,
  "metadata": {
    "colab": {
      "provenance": [],
      "authorship_tag": "ABX9TyO7PsBHC7kGzbAZe2qSKg8K",
      "include_colab_link": true
    },
    "kernelspec": {
      "name": "python3",
      "display_name": "Python 3"
    },
    "language_info": {
      "name": "python"
    },
    "accelerator": "GPU",
    "gpuClass": "standard"
  },
  "cells": [
    {
      "cell_type": "markdown",
      "metadata": {
        "id": "view-in-github",
        "colab_type": "text"
      },
      "source": [
        "<a href=\"https://colab.research.google.com/github/LeMinhTruong16/AI/blob/main/Cifar_100.ipynb\" target=\"_parent\"><img src=\"https://colab.research.google.com/assets/colab-badge.svg\" alt=\"Open In Colab\"/></a>"
      ]
    },
    {
      "cell_type": "code",
      "execution_count": 4,
      "metadata": {
        "id": "ISzEwIBRZ3HN"
      },
      "outputs": [],
      "source": [
        "from keras.datasets import mnist\n",
        "from keras.models import Sequential\n",
        "from keras.models import load_model\n",
        "from keras.layers import Dense\n",
        "import matplotlib.pyplot as plt\n",
        "import numpy as np\n",
        "from keras.datasets import cifar100 \n",
        "from keras.utils import to_categorical #lenh chuyen 2 chieu thanh 1 chieu"
      ]
    },
    {
      "cell_type": "code",
      "source": [
        "(x_train, y_train), (x_test, y_test) = cifar100.load_data()\n",
        "\n",
        "print(x_train.shape) \n",
        "print(y_train.shape) \n",
        "print(x_test.shape) \n",
        "print(y_test.shape)"
      ],
      "metadata": {
        "colab": {
          "base_uri": "https://localhost:8080/"
        },
        "id": "nCvOZQISZ9Jl",
        "outputId": "743b1df1-4b27-47b4-9de1-cec4a81e75c0"
      },
      "execution_count": 5,
      "outputs": [
        {
          "output_type": "stream",
          "name": "stdout",
          "text": [
            "Downloading data from https://www.cs.toronto.edu/~kriz/cifar-100-python.tar.gz\n",
            "169001437/169001437 [==============================] - 6s 0us/step\n",
            "(50000, 32, 32, 3)\n",
            "(50000, 1)\n",
            "(10000, 32, 32, 3)\n",
            "(10000, 1)\n"
          ]
        }
      ]
    },
    {
      "cell_type": "code",
      "source": [
        "x_train = x_train.reshape((50000, 32*32*3))\n",
        "x_train = x_train.astype('float32')/255\n",
        "x_test = x_test.reshape((10000, 32*32*3))\n",
        "x_test = x_test.astype('float32')/255\n",
        "\n",
        "y_train = to_categorical(y_train, 100)\n",
        "y_test = to_categorical(y_test, 100)"
      ],
      "metadata": {
        "id": "d10ggkx8aJs6"
      },
      "execution_count": 6,
      "outputs": []
    },
    {
      "cell_type": "code",
      "source": [
        "from keras.models import Sequential,Model\n",
        "from keras.layers import Dense,Flatten,Dropout,Conv2D,MaxPooling2D,Normalization,Input\n",
        "from keras.optimizers import Adam\n",
        "from keras import losses\n",
        "loss = losses"
      ],
      "metadata": {
        "id": "DzzVJo66aMDd"
      },
      "execution_count": 7,
      "outputs": []
    },
    {
      "cell_type": "code",
      "source": [
        "from keras.layers import LeakyReLU\n",
        "model = Sequential()\n",
        "model.add(Conv2D(32, kernel_size = (3,3), activation = 'linear', input_shape = (40, 40, 3), padding= 'same'))\n",
        "model.add(LeakyReLU(alpha = 0.1))\n",
        "#Add Dropout\n",
        "model.add(Dropout(0.25))\n",
        "\n",
        "model.add(MaxPooling2D((2,2), padding = 'same'))\n",
        "model.add(Conv2D(64, (3,3), activation = 'linear', padding = 'same'))\n",
        "model.add(Conv2D(64, (3,3), activation = 'linear', padding = 'same'))\n",
        "model.add(LeakyReLU(alpha = 0.1))\n",
        "#Add Dropout\n",
        "model.add(Dropout(0.25))\n",
        "\n",
        "model.add(MaxPooling2D((2,2), padding = 'same'))\n",
        "model.add(Conv2D(128, (3,3), activation = 'linear', padding = 'same'))\n",
        "model.add(LeakyReLU(alpha = 0.1))\n",
        "#Add Dropout\n",
        "model.add(Dropout(0.25))"
      ],
      "metadata": {
        "id": "sSYlVgcKaWUB"
      },
      "execution_count": 10,
      "outputs": []
    },
    {
      "cell_type": "code",
      "source": [
        "#Đưa vào ANN, bộ ANN để phân loại:\n",
        "from keras.losses import categorical_crossentropy\n",
        "model.add(Flatten())\n",
        "model.add(Dense(128, activation = 'linear'))\n",
        "#Add Dropout\n",
        "model.add(Dropout(0.25))\n",
        "\n",
        "model.add(Dense(100, activation = 'softmax'))\n",
        "model.summary()"
      ],
      "metadata": {
        "colab": {
          "base_uri": "https://localhost:8080/"
        },
        "id": "RdAQJyhXaYIC",
        "outputId": "c07fdd4d-8b98-4b5d-d2eb-31bf4ca79e19"
      },
      "execution_count": 11,
      "outputs": [
        {
          "output_type": "stream",
          "name": "stdout",
          "text": [
            "Model: \"sequential_1\"\n",
            "_________________________________________________________________\n",
            " Layer (type)                Output Shape              Param #   \n",
            "=================================================================\n",
            " conv2d_4 (Conv2D)           (None, 40, 40, 32)        896       \n",
            "                                                                 \n",
            " leaky_re_lu_3 (LeakyReLU)   (None, 40, 40, 32)        0         \n",
            "                                                                 \n",
            " dropout_4 (Dropout)         (None, 40, 40, 32)        0         \n",
            "                                                                 \n",
            " max_pooling2d_2 (MaxPooling  (None, 20, 20, 32)       0         \n",
            " 2D)                                                             \n",
            "                                                                 \n",
            " conv2d_5 (Conv2D)           (None, 20, 20, 64)        18496     \n",
            "                                                                 \n",
            " conv2d_6 (Conv2D)           (None, 20, 20, 64)        36928     \n",
            "                                                                 \n",
            " leaky_re_lu_4 (LeakyReLU)   (None, 20, 20, 64)        0         \n",
            "                                                                 \n",
            " dropout_5 (Dropout)         (None, 20, 20, 64)        0         \n",
            "                                                                 \n",
            " max_pooling2d_3 (MaxPooling  (None, 10, 10, 64)       0         \n",
            " 2D)                                                             \n",
            "                                                                 \n",
            " conv2d_7 (Conv2D)           (None, 10, 10, 128)       73856     \n",
            "                                                                 \n",
            " leaky_re_lu_5 (LeakyReLU)   (None, 10, 10, 128)       0         \n",
            "                                                                 \n",
            " dropout_6 (Dropout)         (None, 10, 10, 128)       0         \n",
            "                                                                 \n",
            " flatten_1 (Flatten)         (None, 12800)             0         \n",
            "                                                                 \n",
            " dense_2 (Dense)             (None, 128)               1638528   \n",
            "                                                                 \n",
            " dropout_7 (Dropout)         (None, 128)               0         \n",
            "                                                                 \n",
            " dense_3 (Dense)             (None, 100)               12900     \n",
            "                                                                 \n",
            "=================================================================\n",
            "Total params: 1,781,604\n",
            "Trainable params: 1,781,604\n",
            "Non-trainable params: 0\n",
            "_________________________________________________________________\n"
          ]
        }
      ]
    },
    {
      "cell_type": "code",
      "source": [
        "#Tao mo hinh\n",
        "model = Sequential()\n",
        "model.add(Dense(2000, input_shape=(32*32*3,), activation = 'relu')) #input_shape chỉ có 1 chiều, nên sau phẩy ko cần ghi gì\n",
        "model.add(Dense(1000, activation = 'relu'))\n",
        "model.add(Dense(100, activation = 'softmax'))\n",
        "model.summary()"
      ],
      "metadata": {
        "colab": {
          "base_uri": "https://localhost:8080/"
        },
        "id": "c9bofv5zacfN",
        "outputId": "bc252603-f40f-4775-aa15-30c9172478e3"
      },
      "execution_count": 12,
      "outputs": [
        {
          "output_type": "stream",
          "name": "stdout",
          "text": [
            "Model: \"sequential_2\"\n",
            "_________________________________________________________________\n",
            " Layer (type)                Output Shape              Param #   \n",
            "=================================================================\n",
            " dense_4 (Dense)             (None, 2000)              6146000   \n",
            "                                                                 \n",
            " dense_5 (Dense)             (None, 1000)              2001000   \n",
            "                                                                 \n",
            " dense_6 (Dense)             (None, 100)               100100    \n",
            "                                                                 \n",
            "=================================================================\n",
            "Total params: 8,247,100\n",
            "Trainable params: 8,247,100\n",
            "Non-trainable params: 0\n",
            "_________________________________________________________________\n"
          ]
        }
      ]
    },
    {
      "cell_type": "code",
      "source": [
        "#compile\n",
        "model.compile(optimizer = 'rmsprop', loss = 'categorical_crossentropy', metrics = 'accuracy') #bộ tối ưu 'rmsprop', mất mát 'categorical_crossentropy'\n",
        "\n",
        "#train\n",
        "train = model.fit(x_train, y_train, epochs = 40, batch_size = 128) #lô học chỉ là 128 dữ liệu thôi (không học 60000 dữ liệu), học 10 lần -> mỗi lần học 128"
      ],
      "metadata": {
        "colab": {
          "base_uri": "https://localhost:8080/"
        },
        "id": "I3oMH5Eeaj0I",
        "outputId": "39d9209f-2a48-411e-8da5-340fe499719b"
      },
      "execution_count": 13,
      "outputs": [
        {
          "output_type": "stream",
          "name": "stdout",
          "text": [
            "Epoch 1/40\n",
            "391/391 [==============================] - 7s 6ms/step - loss: 4.2930 - accuracy: 0.0700\n",
            "Epoch 2/40\n",
            "391/391 [==============================] - 2s 6ms/step - loss: 3.7263 - accuracy: 0.1317\n",
            "Epoch 3/40\n",
            "391/391 [==============================] - 3s 7ms/step - loss: 3.5394 - accuracy: 0.1622\n",
            "Epoch 4/40\n",
            "391/391 [==============================] - 2s 5ms/step - loss: 3.4030 - accuracy: 0.1891\n",
            "Epoch 5/40\n",
            "391/391 [==============================] - 2s 5ms/step - loss: 3.2983 - accuracy: 0.2062\n",
            "Epoch 6/40\n",
            "391/391 [==============================] - 2s 5ms/step - loss: 3.2108 - accuracy: 0.2243\n",
            "Epoch 7/40\n",
            "391/391 [==============================] - 2s 5ms/step - loss: 3.1213 - accuracy: 0.2433\n",
            "Epoch 8/40\n",
            "391/391 [==============================] - 2s 6ms/step - loss: 3.0450 - accuracy: 0.2549\n",
            "Epoch 9/40\n",
            "391/391 [==============================] - 2s 6ms/step - loss: 2.9721 - accuracy: 0.2699\n",
            "Epoch 10/40\n",
            "391/391 [==============================] - 2s 5ms/step - loss: 2.8895 - accuracy: 0.2858\n",
            "Epoch 11/40\n",
            "391/391 [==============================] - 2s 5ms/step - loss: 2.8203 - accuracy: 0.2994\n",
            "Epoch 12/40\n",
            "391/391 [==============================] - 2s 5ms/step - loss: 2.7483 - accuracy: 0.3126\n",
            "Epoch 13/40\n",
            "391/391 [==============================] - 2s 5ms/step - loss: 2.6803 - accuracy: 0.3272\n",
            "Epoch 14/40\n",
            "391/391 [==============================] - 2s 5ms/step - loss: 2.6176 - accuracy: 0.3391\n",
            "Epoch 15/40\n",
            "391/391 [==============================] - 2s 6ms/step - loss: 2.5479 - accuracy: 0.3551\n",
            "Epoch 16/40\n",
            "391/391 [==============================] - 2s 5ms/step - loss: 2.4776 - accuracy: 0.3712\n",
            "Epoch 17/40\n",
            "391/391 [==============================] - 2s 5ms/step - loss: 2.4174 - accuracy: 0.3862\n",
            "Epoch 18/40\n",
            "391/391 [==============================] - 2s 5ms/step - loss: 2.3551 - accuracy: 0.3975\n",
            "Epoch 19/40\n",
            "391/391 [==============================] - 2s 5ms/step - loss: 2.2985 - accuracy: 0.4093\n",
            "Epoch 20/40\n",
            "391/391 [==============================] - 2s 5ms/step - loss: 2.2381 - accuracy: 0.4246\n",
            "Epoch 21/40\n",
            "391/391 [==============================] - 3s 7ms/step - loss: 2.1773 - accuracy: 0.4363\n",
            "Epoch 22/40\n",
            "391/391 [==============================] - 2s 5ms/step - loss: 2.1234 - accuracy: 0.4501\n",
            "Epoch 23/40\n",
            "391/391 [==============================] - 2s 5ms/step - loss: 2.0635 - accuracy: 0.4657\n",
            "Epoch 24/40\n",
            "391/391 [==============================] - 2s 5ms/step - loss: 2.0126 - accuracy: 0.4747\n",
            "Epoch 25/40\n",
            "391/391 [==============================] - 2s 5ms/step - loss: 1.9622 - accuracy: 0.4885\n",
            "Epoch 26/40\n",
            "391/391 [==============================] - 2s 5ms/step - loss: 1.9118 - accuracy: 0.5001\n",
            "Epoch 27/40\n",
            "391/391 [==============================] - 2s 6ms/step - loss: 1.8636 - accuracy: 0.5110\n",
            "Epoch 28/40\n",
            "391/391 [==============================] - 2s 5ms/step - loss: 1.8247 - accuracy: 0.5202\n",
            "Epoch 29/40\n",
            "391/391 [==============================] - 2s 5ms/step - loss: 1.7736 - accuracy: 0.5346\n",
            "Epoch 30/40\n",
            "391/391 [==============================] - 2s 5ms/step - loss: 1.7214 - accuracy: 0.5458\n",
            "Epoch 31/40\n",
            "391/391 [==============================] - 2s 5ms/step - loss: 1.6950 - accuracy: 0.5545\n",
            "Epoch 32/40\n",
            "391/391 [==============================] - 2s 5ms/step - loss: 1.6453 - accuracy: 0.5653\n",
            "Epoch 33/40\n",
            "391/391 [==============================] - 2s 6ms/step - loss: 1.6116 - accuracy: 0.5735\n",
            "Epoch 34/40\n",
            "391/391 [==============================] - 2s 6ms/step - loss: 1.5674 - accuracy: 0.5851\n",
            "Epoch 35/40\n",
            "391/391 [==============================] - 2s 5ms/step - loss: 1.5437 - accuracy: 0.5888\n",
            "Epoch 36/40\n",
            "391/391 [==============================] - 2s 5ms/step - loss: 1.5009 - accuracy: 0.6003\n",
            "Epoch 37/40\n",
            "391/391 [==============================] - 2s 5ms/step - loss: 1.4711 - accuracy: 0.6087\n",
            "Epoch 38/40\n",
            "391/391 [==============================] - 2s 5ms/step - loss: 1.4421 - accuracy: 0.6158\n",
            "Epoch 39/40\n",
            "391/391 [==============================] - 2s 6ms/step - loss: 1.4182 - accuracy: 0.6251\n",
            "Epoch 40/40\n",
            "391/391 [==============================] - 2s 6ms/step - loss: 1.3857 - accuracy: 0.6328\n"
          ]
        }
      ]
    }
  ]
}